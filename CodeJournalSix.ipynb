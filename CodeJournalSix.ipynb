{
 "cells": [
  {
   "cell_type": "markdown",
   "id": "6487298f",
   "metadata": {},
   "source": [
    "# Sine and Cosine Functions Tabulation\n",
    "### Cell 1: Function to compute `sin(x)`\n",
    "This function takes an input value `x` and returns the sine of `x`.\n"
   ]
  },
  {
   "cell_type": "code",
   "execution_count": null,
   "id": "43381c75",
   "metadata": {},
   "outputs": [],
   "source": [
    "import numpy as np\n",
    "\n",
    "def sin_x(x):\n",
    "    return np.sin(x)"
   ]
  },
  {
   "cell_type": "markdown",
   "id": "7e2f956a",
   "metadata": {},
   "source": [
    "### Cell 2: Function to compute `cos(x)`\n",
    "This function takes an input value `x` and returns the cosine of `x`."
   ]
  },
  {
   "cell_type": "code",
   "execution_count": 6,
   "id": "7f97003c",
   "metadata": {},
   "outputs": [],
   "source": [
    "def cos_x(x):\n",
    "    return np.cos(x)"
   ]
  },
  {
   "cell_type": "code",
   "execution_count": 7,
   "id": "46159381",
   "metadata": {
    "scrolled": true
   },
   "outputs": [
    {
     "data": {
      "text/html": [
       "<div>\n",
       "<style scoped>\n",
       "    .dataframe tbody tr th:only-of-type {\n",
       "        vertical-align: middle;\n",
       "    }\n",
       "\n",
       "    .dataframe tbody tr th {\n",
       "        vertical-align: top;\n",
       "    }\n",
       "\n",
       "    .dataframe thead th {\n",
       "        text-align: right;\n",
       "    }\n",
       "</style>\n",
       "<table border=\"1\" class=\"dataframe\">\n",
       "  <thead>\n",
       "    <tr style=\"text-align: right;\">\n",
       "      <th></th>\n",
       "      <th>x</th>\n",
       "      <th>sin(x)</th>\n",
       "      <th>cos(x)</th>\n",
       "    </tr>\n",
       "  </thead>\n",
       "  <tbody>\n",
       "    <tr>\n",
       "      <th>0</th>\n",
       "      <td>0.000000</td>\n",
       "      <td>0.000000</td>\n",
       "      <td>1.000000</td>\n",
       "    </tr>\n",
       "    <tr>\n",
       "      <th>1</th>\n",
       "      <td>0.002002</td>\n",
       "      <td>0.002002</td>\n",
       "      <td>0.999998</td>\n",
       "    </tr>\n",
       "    <tr>\n",
       "      <th>2</th>\n",
       "      <td>0.004004</td>\n",
       "      <td>0.004004</td>\n",
       "      <td>0.999992</td>\n",
       "    </tr>\n",
       "    <tr>\n",
       "      <th>3</th>\n",
       "      <td>0.006006</td>\n",
       "      <td>0.006006</td>\n",
       "      <td>0.999982</td>\n",
       "    </tr>\n",
       "    <tr>\n",
       "      <th>4</th>\n",
       "      <td>0.008008</td>\n",
       "      <td>0.008008</td>\n",
       "      <td>0.999968</td>\n",
       "    </tr>\n",
       "  </tbody>\n",
       "</table>\n",
       "</div>"
      ],
      "text/plain": [
       "          x    sin(x)    cos(x)\n",
       "0  0.000000  0.000000  1.000000\n",
       "1  0.002002  0.002002  0.999998\n",
       "2  0.004004  0.004004  0.999992\n",
       "3  0.006006  0.006006  0.999982\n",
       "4  0.008008  0.008008  0.999968"
      ]
     },
     "execution_count": 7,
     "metadata": {},
     "output_type": "execute_result"
    }
   ],
   "source": [
    "import pandas as pd\n",
    "\n",
    "x_values = np.linspace(0, 2, 1000)\n",
    "sin_values = sin_x(x_values)\n",
    "cos_values = cos_x(x_values)\n",
    "\n",
    "df = pd.DataFrame({\n",
    "    'x': x_values,\n",
    "    'sin(x)': sin_values,\n",
    "    'cos(x)': cos_values\n",
    "})\n",
    "\n",
    "df.head()"
   ]
  },
  {
   "cell_type": "code",
   "execution_count": 10,
   "id": "dcc4ed69",
   "metadata": {},
   "outputs": [
    {
     "name": "stdout",
     "output_type": "stream",
     "text": [
      "x         sin(x)         cos(x)\n",
      "0.0000    0.0000000000   1.0000000000   \n",
      "0.0020    0.0020020007   0.9999979960   \n",
      "0.0040    0.0040039933   0.9999919840   \n",
      "0.0060    0.0060059699   0.9999819640   \n",
      "0.0080    0.0080079224   0.9999679361   \n",
      "0.0100    0.0100098428   0.9999499003   \n",
      "0.0120    0.0120117231   0.9999278567   \n",
      "0.0140    0.0140135553   0.9999018053   \n",
      "0.0160    0.0160153313   0.9998717464   \n",
      "0.0180    0.0180170431   0.9998376799   \n"
     ]
    }
   ],
   "source": [
    "print(f\"{'x':<10}{'sin(x)':<15}{'cos(x)'}\")\n",
    "\n",
    "# Using a for loop to print the first 10 values\n",
    "for i in range(10):\n",
    "    print(f\"{x_values[i]:<10.4f}{sin_values[i]:<15.10f}{cos_values[i]:<15.10f}\")"
   ]
  },
  {
   "cell_type": "code",
   "execution_count": null,
   "id": "5274ef17",
   "metadata": {},
   "outputs": [],
   "source": []
  }
 ],
 "metadata": {
  "kernelspec": {
   "display_name": "Python 3 (ipykernel)",
   "language": "python",
   "name": "python3"
  },
  "language_info": {
   "codemirror_mode": {
    "name": "ipython",
    "version": 3
   },
   "file_extension": ".py",
   "mimetype": "text/x-python",
   "name": "python",
   "nbconvert_exporter": "python",
   "pygments_lexer": "ipython3",
   "version": "3.10.9"
  }
 },
 "nbformat": 4,
 "nbformat_minor": 5
}
